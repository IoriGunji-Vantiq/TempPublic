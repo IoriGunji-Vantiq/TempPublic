{
  "nbformat": 4,
  "nbformat_minor": 0,
  "metadata": {
    "colab": {
      "provenance": [],
      "include_colab_link": true
    },
    "kernelspec": {
      "name": "python3",
      "display_name": "Python 3"
    },
    "language_info": {
      "name": "python"
    }
  },
  "cells": [
    {
      "cell_type": "markdown",
      "metadata": {
        "id": "view-in-github",
        "colab_type": "text"
      },
      "source": [
        "<a href=\"https://colab.research.google.com/github/IoriGunji-Vantiq/TempPublic/blob/master/BoxSorterDataGenerator.ipynb\" target=\"_parent\"><img src=\"https://colab.research.google.com/assets/colab-badge.svg\" alt=\"Open In Colab\"/></a>"
      ]
    },
    {
      "cell_type": "markdown",
      "source": [
        "# Vantiq 荷物仕分け (Box Sorter) アプリケーション用データジェネレータ\n",
        "## 設定情報の設定方法\n",
        "- 設定情報に使用するデータ送信先の Vantiq の `url` と `AccessToken` を設定します。\n",
        "    - `url` は、Vantiq で作成した `Vantiq Topic名` を入力してください。\n",
        "    - `AccessToken` は、 **Vantiq IDE のメニュー** から **管理(Administer)** -> **Advanced** -> **Access Tokens** より生成します。\n",
        "\n",
        "## データジェネレータの実行手順\n",
        "1. 初回実行時またはデータジェネレータの実行時にエラーが出る場合は、モジュールのインストールを行います。  \n",
        "   `# モジュールのインストール` の左側の実行ボタンをクリックします。  \n",
        "1. 設定情報を反映させるために `# 設定情報` の左側の実行ボタンをクリックします。  \n",
        "1. ダミーデータの送信を行うために `# データジェネレータ本体` の左側の実行ボタンクリックします。"
      ],
      "metadata": {
        "id": "okmzYlHmq-9B"
      }
    },
    {
      "cell_type": "code",
      "source": [
        "# モジュールのインストール\n",
        "!pip install schedule"
      ],
      "metadata": {
        "id": "724MzUOGeSGZ",
        "outputId": "4bb65cd7-2a52-4f22-c3e6-bda659468d2f",
        "colab": {
          "base_uri": "https://localhost:8080/"
        }
      },
      "execution_count": 22,
      "outputs": [
        {
          "output_type": "stream",
          "name": "stdout",
          "text": [
            "Collecting schedule\n",
            "  Downloading schedule-1.2.0-py2.py3-none-any.whl (11 kB)\n",
            "Installing collected packages: schedule\n",
            "Successfully installed schedule-1.2.0\n"
          ]
        }
      ]
    },
    {
      "cell_type": "code",
      "execution_count": 23,
      "metadata": {
        "id": "4VR-Yr6Uq9k7"
      },
      "outputs": [],
      "source": [
        "# 設定情報\n",
        "# url: Final[str] = \"https://{VantiqのURL(FQDN)}/api/v1/resources/topics/{Topic名}\"\n",
        "# accesstoken: Final[str] = \"{Vantiqのアクセストークン}\"\n",
        "\n",
        "url: Final[str] = \"https://internal.vantiq.com/api/v1/resources/topics//BoxInfoApi\"\n",
        "accesstoken: Final[str] = \"yAt4ZgYt9nxc8LOt26OWDi2VGAwxmkop-kzNNhGzuho=\""
      ]
    },
    {
      "cell_type": "code",
      "source": [
        "# データジェネレータ本体\n",
        "import requests\n",
        "import json\n",
        "import random\n",
        "import time\n",
        "from typing import Final\n",
        "import schedule\n",
        "\n",
        "\n",
        "# ダミーデータ\n",
        "dummy_data = [\n",
        "    {\n",
        "        \"code\": \"14961234567890\",\n",
        "        \"name\": \"お茶 24本\"\n",
        "    }\n",
        "    , {\n",
        "        \"code\": \"14961234567892\",\n",
        "        \"name\": \"化粧水 36本\"\n",
        "    }\n",
        "    , {\n",
        "        \"code\": \"14961234567893\",\n",
        "        \"name\": \"ワイン 12本\"\n",
        "    }\n",
        "]\n",
        "\n",
        "# アクセストークン\n",
        "authorization = \"Bearer\" + \" \" + accesstoken\n",
        "\n",
        "# POSTリクエスト\n",
        "def data_post():\n",
        "    headers = {\n",
        "      'Content-Type': 'application/json',\n",
        "      'Authorization': authorization\n",
        "    }\n",
        "    payload = json.dumps(dummy_data[random.randint(0, 2)])\n",
        "    response = requests.request(\"POST\", url, headers=headers, data=payload)\n",
        "    print(response.text)\n",
        "\n",
        "# 定期実行\n",
        "schedule.every(2).seconds.do(data_post)\n",
        "while True:\n",
        "    schedule.run_pending()\n",
        "    time.sleep(1)\n"
      ],
      "metadata": {
        "colab": {
          "base_uri": "https://localhost:8080/",
          "height": 431
        },
        "id": "_Hl2OLPUrUe7",
        "outputId": "d7bef74c-5498-4aeb-8729-bcf8be1d4039"
      },
      "execution_count": 24,
      "outputs": [
        {
          "output_type": "stream",
          "name": "stdout",
          "text": [
            "true\n",
            "true\n",
            "true\n",
            "true\n",
            "true\n",
            "true\n",
            "true\n",
            "true\n",
            "true\n",
            "true\n",
            "true\n",
            "true\n",
            "true\n"
          ]
        },
        {
          "output_type": "error",
          "ename": "KeyboardInterrupt",
          "evalue": "ignored",
          "traceback": [
            "\u001b[0;31m---------------------------------------------------------------------------\u001b[0m",
            "\u001b[0;31mKeyboardInterrupt\u001b[0m                         Traceback (most recent call last)",
            "\u001b[0;32m<ipython-input-24-d33e6105e533>\u001b[0m in \u001b[0;36m<cell line: 41>\u001b[0;34m()\u001b[0m\n\u001b[1;32m     41\u001b[0m \u001b[0;32mwhile\u001b[0m \u001b[0;32mTrue\u001b[0m\u001b[0;34m:\u001b[0m\u001b[0;34m\u001b[0m\u001b[0;34m\u001b[0m\u001b[0m\n\u001b[1;32m     42\u001b[0m     \u001b[0mschedule\u001b[0m\u001b[0;34m.\u001b[0m\u001b[0mrun_pending\u001b[0m\u001b[0;34m(\u001b[0m\u001b[0;34m)\u001b[0m\u001b[0;34m\u001b[0m\u001b[0;34m\u001b[0m\u001b[0m\n\u001b[0;32m---> 43\u001b[0;31m     \u001b[0mtime\u001b[0m\u001b[0;34m.\u001b[0m\u001b[0msleep\u001b[0m\u001b[0;34m(\u001b[0m\u001b[0;36m1\u001b[0m\u001b[0;34m)\u001b[0m\u001b[0;34m\u001b[0m\u001b[0;34m\u001b[0m\u001b[0m\n\u001b[0m",
            "\u001b[0;31mKeyboardInterrupt\u001b[0m: "
          ]
        }
      ]
    }
  ]
}