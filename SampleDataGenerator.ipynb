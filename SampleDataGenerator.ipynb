{
  "nbformat": 4,
  "nbformat_minor": 0,
  "metadata": {
    "colab": {
      "provenance": [],
      "include_colab_link": true
    },
    "kernelspec": {
      "name": "python3",
      "display_name": "Python 3"
    },
    "language_info": {
      "name": "python"
    }
  },
  "cells": [
    {
      "cell_type": "markdown",
      "metadata": {
        "id": "view-in-github",
        "colab_type": "text"
      },
      "source": [
        "<a href=\"https://colab.research.google.com/github/IoriGunji-Vantiq/TempPublic/blob/master/SampleDataGenerator.ipynb\" target=\"_parent\"><img src=\"https://colab.research.google.com/assets/colab-badge.svg\" alt=\"Open In Colab\"/></a>"
      ]
    },
    {
      "cell_type": "markdown",
      "source": [
        "# Vantiq 荷物仕分け (Box Sorter) アプリケーション用データジェネレータ\n",
        "## 設定手順\n",
        "- 設定情報に使用するデータ送信先の Vantiq の `url` と `AccessToken` を設定します。\n",
        "- `url` は、Vantiq で作成した `Vantiq Topic名` を入力してください。\n",
        "- `AccessToken` は、 **Vantiq IDE のメニュー** から **管理(Administer)** -> **Advanced** -> **Access Tokens** より生成します。\n",
        "\n",
        "## 注意事項\n",
        "データジェネレータを実行する前に設定情報を必ず実行する必要があります。"
      ],
      "metadata": {
        "id": "okmzYlHmq-9B"
      }
    },
    {
      "cell_type": "code",
      "execution_count": null,
      "metadata": {
        "id": "4VR-Yr6Uq9k7"
      },
      "outputs": [],
      "source": [
        "# 設定情報\n",
        "url = \"{自分で作成した温度用URLエンドポイントを入力}\"\n",
        "accesstoken = \"{自分のアクセストークンを入力}\""
      ]
    },
    {
      "cell_type": "code",
      "source": [
        "# データジェネレータ本体\n",
        "import requests\n",
        "import json\n",
        "import random\n",
        "import datetime\n",
        "\n",
        "\n",
        "authorization = \"Bearer\" + \" \" + accesstoken\n",
        "\n",
        "temp = random.randint(240,269)\n",
        "now = datetime.datetime.now().isoformat()\n",
        "\n",
        "payload = json.dumps({\n",
        "  \"sensorID\": \"1\",\n",
        "  \"time\": now,\n",
        "  \"temp\": temp\n",
        "})\n",
        "\n",
        "headers = {\n",
        "  'Content-Type': 'application/json',\n",
        "  'Authorization': authorization\n",
        "}\n",
        "\n",
        "response = requests.request(\"POST\", url, headers=headers, data=payload)\n",
        "\n",
        "print(response.text)"
      ],
      "metadata": {
        "colab": {
          "base_uri": "https://localhost:8080/"
        },
        "id": "_Hl2OLPUrUe7",
        "outputId": "d6d89daf-53ff-4e6f-f2dd-c591af1ff754"
      },
      "execution_count": null,
      "outputs": [
        {
          "output_type": "stream",
          "name": "stdout",
          "text": [
            "true\n"
          ]
        }
      ]
    }
  ]
}