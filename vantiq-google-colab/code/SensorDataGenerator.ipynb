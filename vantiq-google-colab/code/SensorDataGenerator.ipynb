{
  "cells": [
    {
      "cell_type": "markdown",
      "metadata": {
        "id": "view-in-github",
        "colab_type": "text"
      },
      "source": [
        "<a href=\"https://colab.research.google.com/github/IoriGunji-Vantiq/TempPublic/blob/master/vantiq-google-colab/code/SensorDataGenerator.ipynb\" target=\"_parent\"><img src=\"https://colab.research.google.com/assets/colab-badge.svg\" alt=\"Open In Colab\"/></a>"
      ]
    },
    {
      "cell_type": "markdown",
      "metadata": {
        "id": "okmzYlHmq-9B"
      },
      "source": [
        "# ボックスソーター（REST API）用データジェネレータ\n",
        "Vantiq ボックスソーターアプリにダミーデータを HTTP POST する Python スクリプトになります。  \n",
        "\n",
        "## 設定方法\n",
        "利用する際は事前にいくつか設定が必要になります。  \n",
        "また、事前に Google アカウントへのログインが必要になります。  \n",
        "\n",
        "### 設定情報の設定方法\n",
        "- 設定情報にデータ送信先となる Vantiq の `url` と `AccessToken` を設定します。\n",
        "    - `url` は、Vantiq で作成した `Vantiq Topic名` を含めて入力してください。\n",
        "    - `AccessToken` は、 **Vantiq IDE のメニュー** から **管理(Administer)** -> **Advanced** -> **Access Tokens** より生成します。\n",
        "\n",
        "## データジェネレータの実行手順\n",
        "1. 設定情報を反映させるために `# 設定情報` の左側の `再生ボタン` をクリックします。  \n",
        "1. ダミーデータの送信を行うために `# データジェネレータ本体` の左側の `再生ボタン` クリックします。\n"
      ]
    },
    {
      "cell_type": "code",
      "execution_count": null,
      "metadata": {
        "id": "4VR-Yr6Uq9k7"
      },
      "outputs": [],
      "source": [
        "# 設定情報\n",
        "url = \"https://dev.vantiq.com/api/v1/resources/services/jp.vantiq.omron.environmentalsensor.EnvironmentalSensor/Inbound\"\n",
        "accesstoken = \"3fyS5ufloVjCcVjtjan_DZ16jjJ885PPo1QcYiBfKTE=\""
      ]
    },
    {
      "cell_type": "code",
      "execution_count": null,
      "metadata": {
        "id": "_Hl2OLPUrUe7"
      },
      "outputs": [],
      "source": [
        "# データジェネレータ本体\n",
        "import requests\n",
        "import json\n",
        "import random\n",
        "import time\n",
        "from typing import Final\n",
        "\n",
        "\n",
        "# ダミーデータ\n",
        "dummy_data = [\n",
        "    {\n",
        "        \"env_sensor_id\": \"dummy_sensor2\"\n",
        "        , \"humidity\": 45\n",
        "        , \"temperature\": 30\n",
        "    }\n",
        "    , {\n",
        "        \"env_sensor_id\": \"dummy_sensor2\"\n",
        "        , \"humidity\": 47\n",
        "        , \"temperature\": 30.6\n",
        "    }\n",
        "    , {\n",
        "        \"env_sensor_id\": \"dummy_sensor2\"\n",
        "        , \"humidity\": 49\n",
        "        , \"temperature\": 31.2\n",
        "    }\n",
        "    , {\n",
        "        \"env_sensor_id\": \"dummy_sensor2\"\n",
        "        , \"humidity\": 51\n",
        "        , \"temperature\": 31.8\n",
        "    }\n",
        "    , {\n",
        "        \"env_sensor_id\": \"dummy_sensor2\"\n",
        "        , \"humidity\": 53\n",
        "        , \"temperature\": 32.4\n",
        "    }\n",
        "    , {\n",
        "        \"env_sensor_id\": \"dummy_sensor2\"\n",
        "        , \"humidity\": 55\n",
        "        , \"temperature\": 33.0\n",
        "    }\n",
        "    , {\n",
        "        \"env_sensor_id\": \"dummy_sensor2\"\n",
        "        , \"humidity\": 57\n",
        "        , \"temperature\": 33.6\n",
        "    }\n",
        "    , {\n",
        "        \"env_sensor_id\": \"dummy_sensor2\"\n",
        "        , \"humidity\": 59\n",
        "        , \"temperature\": 34.2\n",
        "    }\n",
        "    , {\n",
        "        \"env_sensor_id\": \"dummy_sensor2\"\n",
        "        , \"humidity\": 61\n",
        "        , \"temperature\": 34.8\n",
        "    }\n",
        "    , {\n",
        "        \"env_sensor_id\": \"dummy_sensor2\"\n",
        "        , \"humidity\": 63\n",
        "        , \"temperature\": 35.4\n",
        "    }\n",
        "    , {\n",
        "        \"env_sensor_id\": \"dummy_sensor2\"\n",
        "        , \"humidity\": 65\n",
        "        , \"temperature\": 36.0\n",
        "    }\n",
        "    , {\n",
        "        \"env_sensor_id\": \"dummy_sensor2\"\n",
        "        , \"humidity\": 67\n",
        "        , \"temperature\": 36.6\n",
        "    }\n",
        "    , {\n",
        "        \"env_sensor_id\": \"dummy_sensor2\"\n",
        "        , \"humidity\": 69\n",
        "        , \"temperature\": 37.2\n",
        "    }\n",
        "]\n",
        "\n",
        "# アクセストークン\n",
        "authorization = \"Bearer\" + \" \" + accesstoken\n",
        "\n",
        "# HTTP POST\n",
        "i = 0\n",
        "def data_post():\n",
        "    headers = {\n",
        "      'Content-Type': 'application/json',\n",
        "      'Authorization': authorization\n",
        "    }\n",
        "    payload = json.dumps(dummy_data[i])\n",
        "    response = requests.request(\"POST\", url, headers=headers, data=payload)\n",
        "    print(response.text)\n",
        "    i = i + 1\n",
        "    if len(dummy_data) <= i:\n",
        "      i = 0\n",
        "\n",
        "# 定期実行\n",
        "while True:\n",
        "    data_post()\n",
        "    time.sleep(10)\n"
      ]
    }
  ],
  "metadata": {
    "colab": {
      "provenance": [],
      "include_colab_link": true
    },
    "kernelspec": {
      "display_name": "Python 3",
      "name": "python3"
    },
    "language_info": {
      "name": "python"
    }
  },
  "nbformat": 4,
  "nbformat_minor": 0
}