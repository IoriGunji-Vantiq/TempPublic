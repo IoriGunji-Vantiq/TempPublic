{
  "cells": [
    {
      "cell_type": "markdown",
      "metadata": {
        "id": "view-in-github",
        "colab_type": "text"
      },
      "source": [
        "<a href=\"https://colab.research.google.com/github/IoriGunji-Vantiq/TempPublic/blob/master/vantiq-google-colab/code/DemoDataGenerator.ipynb\" target=\"_parent\"><img src=\"https://colab.research.google.com/assets/colab-badge.svg\" alt=\"Open In Colab\"/></a>"
      ]
    },
    {
      "cell_type": "markdown",
      "metadata": {
        "id": "okmzYlHmq-9B"
      },
      "source": [
        "# ボックスソーター（REST API）用データジェネレータ\n",
        "Vantiq ボックスソーターアプリにダミーデータを HTTP POST する Python スクリプトになります。  \n",
        "\n",
        "## 設定方法\n",
        "利用する際は事前にいくつか設定が必要になります。  \n",
        "また、事前に Google アカウントへのログインが必要になります。  \n",
        "\n",
        "### 設定情報の設定方法\n",
        "- 設定情報にデータ送信先となる Vantiq の `url` と `AccessToken` を設定します。\n",
        "    - `url` は、Vantiq で作成した `Vantiq Topic名` を含めて入力してください。\n",
        "    - `AccessToken` は、 **Vantiq IDE のメニュー** から **管理(Administer)** -> **Advanced** -> **Access Tokens** より生成します。\n",
        "\n",
        "## データジェネレータの実行手順\n",
        "1. 設定情報を反映させるために `# 設定情報` の左側の `再生ボタン` をクリックします。  \n",
        "1. ダミーデータの送信を行うために `# データジェネレータ本体` の左側の `再生ボタン` クリックします。\n"
      ]
    },
    {
      "cell_type": "code",
      "execution_count": 2,
      "metadata": {
        "id": "4VR-Yr6Uq9k7"
      },
      "outputs": [],
      "source": [
        "# 設定情報\n",
        "url = \"https://dev.vantiq.com/api/v1/resources/services/jp.vantiq.healthcare.HeatStroke/InboundLatestBodyTemperature\"\n",
        "accesstoken = \"3fyS5ufloVjCcVjtjan_DZ16jjJ885PPo1QcYiBfKTE=\""
      ]
    },
    {
      "cell_type": "code",
      "execution_count": 3,
      "metadata": {
        "id": "_Hl2OLPUrUe7",
        "colab": {
          "base_uri": "https://localhost:8080/",
          "height": 331
        },
        "outputId": "37214e7b-a192-409a-aad1-233906a89b9c"
      },
      "outputs": [
        {
          "output_type": "error",
          "ename": "UnboundLocalError",
          "evalue": "cannot access local variable 'i' where it is not associated with a value",
          "traceback": [
            "\u001b[0;31m---------------------------------------------------------------------------\u001b[0m",
            "\u001b[0;31mUnboundLocalError\u001b[0m                         Traceback (most recent call last)",
            "\u001b[0;32m<ipython-input-3-04e14e654ec1>\u001b[0m in \u001b[0;36m<cell line: 0>\u001b[0;34m()\u001b[0m\n\u001b[1;32m     37\u001b[0m \u001b[0;31m# 定期実行\u001b[0m\u001b[0;34m\u001b[0m\u001b[0;34m\u001b[0m\u001b[0m\n\u001b[1;32m     38\u001b[0m \u001b[0;32mwhile\u001b[0m \u001b[0;32mTrue\u001b[0m\u001b[0;34m:\u001b[0m\u001b[0;34m\u001b[0m\u001b[0;34m\u001b[0m\u001b[0m\n\u001b[0;32m---> 39\u001b[0;31m     \u001b[0mdata_post\u001b[0m\u001b[0;34m(\u001b[0m\u001b[0;34m)\u001b[0m\u001b[0;34m\u001b[0m\u001b[0;34m\u001b[0m\u001b[0m\n\u001b[0m\u001b[1;32m     40\u001b[0m     \u001b[0mtime\u001b[0m\u001b[0;34m.\u001b[0m\u001b[0msleep\u001b[0m\u001b[0;34m(\u001b[0m\u001b[0;36m1\u001b[0m\u001b[0;34m)\u001b[0m\u001b[0;34m\u001b[0m\u001b[0;34m\u001b[0m\u001b[0m\n",
            "\u001b[0;32m<ipython-input-3-04e14e654ec1>\u001b[0m in \u001b[0;36mdata_post\u001b[0;34m()\u001b[0m\n\u001b[1;32m     26\u001b[0m       \u001b[0;34m'Authorization'\u001b[0m\u001b[0;34m:\u001b[0m \u001b[0mauthorization\u001b[0m\u001b[0;34m\u001b[0m\u001b[0;34m\u001b[0m\u001b[0m\n\u001b[1;32m     27\u001b[0m     }\n\u001b[0;32m---> 28\u001b[0;31m     \u001b[0mdummy_data\u001b[0m\u001b[0;34m.\u001b[0m\u001b[0mbody_temperature\u001b[0m \u001b[0;34m=\u001b[0m \u001b[0;36m36.0\u001b[0m \u001b[0;34m+\u001b[0m \u001b[0;34m(\u001b[0m\u001b[0;36m0.2\u001b[0m \u001b[0;34m*\u001b[0m \u001b[0mi\u001b[0m\u001b[0;34m)\u001b[0m\u001b[0;34m\u001b[0m\u001b[0;34m\u001b[0m\u001b[0m\n\u001b[0m\u001b[1;32m     29\u001b[0m     \u001b[0mdummy_data\u001b[0m\u001b[0;34m.\u001b[0m\u001b[0mdate\u001b[0m \u001b[0;34m=\u001b[0m \u001b[0mdatetime\u001b[0m\u001b[0;34m.\u001b[0m\u001b[0mdatetime\u001b[0m\u001b[0;34m.\u001b[0m\u001b[0mnow\u001b[0m\u001b[0;34m(\u001b[0m\u001b[0;34m)\u001b[0m\u001b[0;34m.\u001b[0m\u001b[0mstrftime\u001b[0m\u001b[0;34m(\u001b[0m\u001b[0;34m'%Y-%m-%dT%H:%M:%SZ'\u001b[0m\u001b[0;34m)\u001b[0m\u001b[0;34m\u001b[0m\u001b[0;34m\u001b[0m\u001b[0m\n\u001b[1;32m     30\u001b[0m     \u001b[0mpayload\u001b[0m \u001b[0;34m=\u001b[0m \u001b[0mjson\u001b[0m\u001b[0;34m.\u001b[0m\u001b[0mdumps\u001b[0m\u001b[0;34m(\u001b[0m\u001b[0mdummy_data\u001b[0m\u001b[0;34m[\u001b[0m\u001b[0mrandom\u001b[0m\u001b[0;34m.\u001b[0m\u001b[0mrandint\u001b[0m\u001b[0;34m(\u001b[0m\u001b[0;36m0\u001b[0m\u001b[0;34m,\u001b[0m \u001b[0;36m2\u001b[0m\u001b[0;34m)\u001b[0m\u001b[0;34m]\u001b[0m\u001b[0;34m)\u001b[0m\u001b[0;34m\u001b[0m\u001b[0;34m\u001b[0m\u001b[0m\n",
            "\u001b[0;31mUnboundLocalError\u001b[0m: cannot access local variable 'i' where it is not associated with a value"
          ]
        }
      ],
      "source": [
        "# データジェネレータ本体\n",
        "import requests\n",
        "import json\n",
        "import random\n",
        "import time\n",
        "import datetime\n",
        "from typing import Final\n",
        "\n",
        "# ダミーデータ\n",
        "dummy_data = {\n",
        "    \"user_id\": \"B4MWB6\"\n",
        "    , \"body_temperature\": None\n",
        "    , \"date\": None\n",
        "}\n",
        "\n",
        "# アクセストークン\n",
        "authorization = \"Bearer\" + \" \" + accesstoken\n",
        "\n",
        "# HTTP POST\n",
        "i = 0\n",
        "def data_post():\n",
        "    headers = {\n",
        "      'Content-Type': 'application/json',\n",
        "      'Authorization': authorization\n",
        "    }\n",
        "    dummy_data.body_temperature = 36.0 + (0.2 * i)\n",
        "    dummy_data.date = datetime.datetime.now().strftime('%Y-%m-%dT%H:%M:%SZ')\n",
        "    payload = json.dumps(dummy_data[random.randint(0, 2)])\n",
        "    response = requests.request(\"POST\", url, headers=headers, data=payload)\n",
        "    print(response.text)\n",
        "    i = i + 1\n",
        "    if 12 <= i:\n",
        "      i = 0\n",
        "\n",
        "# 定期実行\n",
        "while True:\n",
        "    data_post()\n",
        "    time.sleep(1)\n"
      ]
    }
  ],
  "metadata": {
    "colab": {
      "provenance": [],
      "include_colab_link": true
    },
    "kernelspec": {
      "display_name": "Python 3",
      "name": "python3"
    },
    "language_info": {
      "name": "python"
    }
  },
  "nbformat": 4,
  "nbformat_minor": 0
}